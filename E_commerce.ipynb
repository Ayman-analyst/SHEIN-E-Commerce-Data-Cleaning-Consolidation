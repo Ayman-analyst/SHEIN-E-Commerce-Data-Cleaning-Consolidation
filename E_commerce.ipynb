{
  "cells": [
    {
      "cell_type": "markdown",
      "metadata": {
        "id": "view-in-github",
        "colab_type": "text"
      },
      "source": [
        "<a href=\"https://colab.research.google.com/github/Ayman-analyst/SHEIN-E-Commerce-Data-Cleaning-Consolidation/blob/main/E_commerce.ipynb\" target=\"_parent\"><img src=\"https://colab.research.google.com/assets/colab-badge.svg\" alt=\"Open In Colab\"/></a>"
      ]
    },
    {
      "cell_type": "code",
      "execution_count": null,
      "metadata": {
        "colab": {
          "background_save": true
        },
        "id": "fqY8ZlP0QFXX"
      },
      "outputs": [],
      "source": [
        "import pandas as pd"
      ]
    },
    {
      "cell_type": "code",
      "execution_count": null,
      "metadata": {
        "colab": {
          "background_save": true
        },
        "id": "n2yUbPGPSIlN",
        "outputId": "79d202c4-8119-4099-aea8-ce2212431b16"
      },
      "outputs": [
        {
          "name": "stdout",
          "output_type": "stream",
          "text": [
            "Requirement already satisfied: kaggle in /usr/local/lib/python3.11/dist-packages (1.6.17)\n",
            "Requirement already satisfied: six>=1.10 in /usr/local/lib/python3.11/dist-packages (from kaggle) (1.17.0)\n",
            "Requirement already satisfied: certifi>=2023.7.22 in /usr/local/lib/python3.11/dist-packages (from kaggle) (2025.1.31)\n",
            "Requirement already satisfied: python-dateutil in /usr/local/lib/python3.11/dist-packages (from kaggle) (2.8.2)\n",
            "Requirement already satisfied: requests in /usr/local/lib/python3.11/dist-packages (from kaggle) (2.32.3)\n",
            "Requirement already satisfied: tqdm in /usr/local/lib/python3.11/dist-packages (from kaggle) (4.67.1)\n",
            "Requirement already satisfied: python-slugify in /usr/local/lib/python3.11/dist-packages (from kaggle) (8.0.4)\n",
            "Requirement already satisfied: urllib3 in /usr/local/lib/python3.11/dist-packages (from kaggle) (2.3.0)\n",
            "Requirement already satisfied: bleach in /usr/local/lib/python3.11/dist-packages (from kaggle) (6.2.0)\n",
            "Requirement already satisfied: webencodings in /usr/local/lib/python3.11/dist-packages (from bleach->kaggle) (0.5.1)\n",
            "Requirement already satisfied: text-unidecode>=1.3 in /usr/local/lib/python3.11/dist-packages (from python-slugify->kaggle) (1.3)\n",
            "Requirement already satisfied: charset-normalizer<4,>=2 in /usr/local/lib/python3.11/dist-packages (from requests->kaggle) (3.4.1)\n",
            "Requirement already satisfied: idna<4,>=2.5 in /usr/local/lib/python3.11/dist-packages (from requests->kaggle) (3.10)\n"
          ]
        }
      ],
      "source": [
        "!pip install kaggle"
      ]
    },
    {
      "cell_type": "code",
      "execution_count": null,
      "metadata": {
        "colab": {
          "background_save": true
        },
        "id": "GwJlS6zuSKfg",
        "outputId": "87fdd52c-d3f9-4e62-c7a9-f212da68de7d"
      },
      "outputs": [
        {
          "data": {
            "text/html": [
              "\n",
              "     <input type=\"file\" id=\"files-ce0f4ad2-32e5-41b3-aa4c-ed0a69e4bce6\" name=\"files[]\" multiple disabled\n",
              "        style=\"border:none\" />\n",
              "     <output id=\"result-ce0f4ad2-32e5-41b3-aa4c-ed0a69e4bce6\">\n",
              "      Upload widget is only available when the cell has been executed in the\n",
              "      current browser session. Please rerun this cell to enable.\n",
              "      </output>\n",
              "      <script>// Copyright 2017 Google LLC\n",
              "//\n",
              "// Licensed under the Apache License, Version 2.0 (the \"License\");\n",
              "// you may not use this file except in compliance with the License.\n",
              "// You may obtain a copy of the License at\n",
              "//\n",
              "//      http://www.apache.org/licenses/LICENSE-2.0\n",
              "//\n",
              "// Unless required by applicable law or agreed to in writing, software\n",
              "// distributed under the License is distributed on an \"AS IS\" BASIS,\n",
              "// WITHOUT WARRANTIES OR CONDITIONS OF ANY KIND, either express or implied.\n",
              "// See the License for the specific language governing permissions and\n",
              "// limitations under the License.\n",
              "\n",
              "/**\n",
              " * @fileoverview Helpers for google.colab Python module.\n",
              " */\n",
              "(function(scope) {\n",
              "function span(text, styleAttributes = {}) {\n",
              "  const element = document.createElement('span');\n",
              "  element.textContent = text;\n",
              "  for (const key of Object.keys(styleAttributes)) {\n",
              "    element.style[key] = styleAttributes[key];\n",
              "  }\n",
              "  return element;\n",
              "}\n",
              "\n",
              "// Max number of bytes which will be uploaded at a time.\n",
              "const MAX_PAYLOAD_SIZE = 100 * 1024;\n",
              "\n",
              "function _uploadFiles(inputId, outputId) {\n",
              "  const steps = uploadFilesStep(inputId, outputId);\n",
              "  const outputElement = document.getElementById(outputId);\n",
              "  // Cache steps on the outputElement to make it available for the next call\n",
              "  // to uploadFilesContinue from Python.\n",
              "  outputElement.steps = steps;\n",
              "\n",
              "  return _uploadFilesContinue(outputId);\n",
              "}\n",
              "\n",
              "// This is roughly an async generator (not supported in the browser yet),\n",
              "// where there are multiple asynchronous steps and the Python side is going\n",
              "// to poll for completion of each step.\n",
              "// This uses a Promise to block the python side on completion of each step,\n",
              "// then passes the result of the previous step as the input to the next step.\n",
              "function _uploadFilesContinue(outputId) {\n",
              "  const outputElement = document.getElementById(outputId);\n",
              "  const steps = outputElement.steps;\n",
              "\n",
              "  const next = steps.next(outputElement.lastPromiseValue);\n",
              "  return Promise.resolve(next.value.promise).then((value) => {\n",
              "    // Cache the last promise value to make it available to the next\n",
              "    // step of the generator.\n",
              "    outputElement.lastPromiseValue = value;\n",
              "    return next.value.response;\n",
              "  });\n",
              "}\n",
              "\n",
              "/**\n",
              " * Generator function which is called between each async step of the upload\n",
              " * process.\n",
              " * @param {string} inputId Element ID of the input file picker element.\n",
              " * @param {string} outputId Element ID of the output display.\n",
              " * @return {!Iterable<!Object>} Iterable of next steps.\n",
              " */\n",
              "function* uploadFilesStep(inputId, outputId) {\n",
              "  const inputElement = document.getElementById(inputId);\n",
              "  inputElement.disabled = false;\n",
              "\n",
              "  const outputElement = document.getElementById(outputId);\n",
              "  outputElement.innerHTML = '';\n",
              "\n",
              "  const pickedPromise = new Promise((resolve) => {\n",
              "    inputElement.addEventListener('change', (e) => {\n",
              "      resolve(e.target.files);\n",
              "    });\n",
              "  });\n",
              "\n",
              "  const cancel = document.createElement('button');\n",
              "  inputElement.parentElement.appendChild(cancel);\n",
              "  cancel.textContent = 'Cancel upload';\n",
              "  const cancelPromise = new Promise((resolve) => {\n",
              "    cancel.onclick = () => {\n",
              "      resolve(null);\n",
              "    };\n",
              "  });\n",
              "\n",
              "  // Wait for the user to pick the files.\n",
              "  const files = yield {\n",
              "    promise: Promise.race([pickedPromise, cancelPromise]),\n",
              "    response: {\n",
              "      action: 'starting',\n",
              "    }\n",
              "  };\n",
              "\n",
              "  cancel.remove();\n",
              "\n",
              "  // Disable the input element since further picks are not allowed.\n",
              "  inputElement.disabled = true;\n",
              "\n",
              "  if (!files) {\n",
              "    return {\n",
              "      response: {\n",
              "        action: 'complete',\n",
              "      }\n",
              "    };\n",
              "  }\n",
              "\n",
              "  for (const file of files) {\n",
              "    const li = document.createElement('li');\n",
              "    li.append(span(file.name, {fontWeight: 'bold'}));\n",
              "    li.append(span(\n",
              "        `(${file.type || 'n/a'}) - ${file.size} bytes, ` +\n",
              "        `last modified: ${\n",
              "            file.lastModifiedDate ? file.lastModifiedDate.toLocaleDateString() :\n",
              "                                    'n/a'} - `));\n",
              "    const percent = span('0% done');\n",
              "    li.appendChild(percent);\n",
              "\n",
              "    outputElement.appendChild(li);\n",
              "\n",
              "    const fileDataPromise = new Promise((resolve) => {\n",
              "      const reader = new FileReader();\n",
              "      reader.onload = (e) => {\n",
              "        resolve(e.target.result);\n",
              "      };\n",
              "      reader.readAsArrayBuffer(file);\n",
              "    });\n",
              "    // Wait for the data to be ready.\n",
              "    let fileData = yield {\n",
              "      promise: fileDataPromise,\n",
              "      response: {\n",
              "        action: 'continue',\n",
              "      }\n",
              "    };\n",
              "\n",
              "    // Use a chunked sending to avoid message size limits. See b/62115660.\n",
              "    let position = 0;\n",
              "    do {\n",
              "      const length = Math.min(fileData.byteLength - position, MAX_PAYLOAD_SIZE);\n",
              "      const chunk = new Uint8Array(fileData, position, length);\n",
              "      position += length;\n",
              "\n",
              "      const base64 = btoa(String.fromCharCode.apply(null, chunk));\n",
              "      yield {\n",
              "        response: {\n",
              "          action: 'append',\n",
              "          file: file.name,\n",
              "          data: base64,\n",
              "        },\n",
              "      };\n",
              "\n",
              "      let percentDone = fileData.byteLength === 0 ?\n",
              "          100 :\n",
              "          Math.round((position / fileData.byteLength) * 100);\n",
              "      percent.textContent = `${percentDone}% done`;\n",
              "\n",
              "    } while (position < fileData.byteLength);\n",
              "  }\n",
              "\n",
              "  // All done.\n",
              "  yield {\n",
              "    response: {\n",
              "      action: 'complete',\n",
              "    }\n",
              "  };\n",
              "}\n",
              "\n",
              "scope.google = scope.google || {};\n",
              "scope.google.colab = scope.google.colab || {};\n",
              "scope.google.colab._files = {\n",
              "  _uploadFiles,\n",
              "  _uploadFilesContinue,\n",
              "};\n",
              "})(self);\n",
              "</script> "
            ],
            "text/plain": [
              "<IPython.core.display.HTML object>"
            ]
          },
          "metadata": {},
          "output_type": "display_data"
        }
      ],
      "source": [
        "from google.colab import files\n",
        "files.upload()  # Upload kaggle.json"
      ]
    },
    {
      "cell_type": "code",
      "execution_count": null,
      "metadata": {
        "id": "1Ls4XUbsTIEL"
      },
      "outputs": [],
      "source": [
        "import os\n",
        "!mkdir -p ~/.kaggle\n",
        "!mv kaggle.json ~/.kaggle/\n",
        "!chmod 600 ~/.kaggle/kaggle.json\n"
      ]
    },
    {
      "cell_type": "code",
      "execution_count": null,
      "metadata": {
        "id": "tPudxisiTOFI"
      },
      "outputs": [],
      "source": [
        "!kaggle datasets download -d oleksiimartusiuk/e-commerce-data-shein"
      ]
    },
    {
      "cell_type": "code",
      "execution_count": null,
      "metadata": {
        "colab": {
          "background_save": true,
          "base_uri": "https://localhost:8080/"
        },
        "id": "emL-ELKHTcL8",
        "outputId": "a897b977-aee6-42d5-cfeb-05e32614f5c4"
      },
      "outputs": [
        {
          "name": "stdout",
          "output_type": "stream",
          "text": [
            "Archive:  e-commerce-data-shein.zip\n",
            "replace e_commerce_data/us-shein-appliances-3987.csv? [y]es, [n]o, [A]ll, [N]one, [r]ename: "
          ]
        }
      ],
      "source": [
        "!unzip e-commerce-data-shein.zip -d e_commerce_data"
      ]
    },
    {
      "cell_type": "code",
      "execution_count": null,
      "metadata": {
        "colab": {
          "background_save": true
        },
        "id": "iGlsQNSCV1tI",
        "outputId": "cc14600b-2c9d-414b-960d-387c4c0ead9f"
      },
      "outputs": [
        {
          "name": "stdout",
          "output_type": "stream",
          "text": [
            "['us-shein-office_and_school_supplies-4233.csv', 'us-shein-beauty_and_health-4267.csv', 'us-shein-underwear_and_sleepwear-4019.csv', 'us-shein-tools_and_home_improvement-3903.csv', 'us-shein-bags_and_luggage-4299.csv', 'us-shein-electronics-4395.csv', 'us-shein-baby_and_maternity-4433.csv', 'us-shein-womens_clothing-4620.csv', 'us-shein-toys_and_games-3577.csv', 'us-shein-kids-4314.csv', 'us-shein-sports_and_outdoors-3853.csv', 'us-shein-home_and_kitchen-3719.csv', 'us-shein-appliances-3987.csv', 'us-shein-jewelry_and_accessories-3548.csv', 'us-shein-curve-2849.csv', 'us-shein-home_textile-3883.csv', 'us-shein-shoes-4381.csv', 'us-shein-automotive-4110.csv', 'us-shein-mens_clothes-1891.csv', 'us-shein-swimwear-3761.csv', 'us-shein-pet_supplies-4083.csv']\n"
          ]
        }
      ],
      "source": [
        "import os\n",
        "print(os.listdir(\"e_commerce_data\"))"
      ]
    },
    {
      "cell_type": "code",
      "execution_count": null,
      "metadata": {
        "colab": {
          "background_save": true
        },
        "id": "PZlLrjThQIUx"
      },
      "outputs": [],
      "source": [
        "df1  = pd.read_csv(\"e_commerce_data/us-shein-appliances-3987.csv\")\n",
        "df2  = pd.read_csv(\"e_commerce_data/us-shein-automotive-4110.csv\")\n",
        "df3  = pd.read_csv(\"e_commerce_data/us-shein-baby_and_maternity-4433.csv\")\n",
        "df4  = pd.read_csv(\"e_commerce_data/us-shein-bags_and_luggage-4299.csv\")\n",
        "df5  = pd.read_csv(\"e_commerce_data/us-shein-home_and_kitchen-3719.csv\")\n",
        "df6  = pd.read_csv(\"e_commerce_data/us-shein-home_textile-3883.csv\")\n",
        "df7  = pd.read_csv(\"e_commerce_data/us-shein-kids-4314.csv\")\n",
        "df8  = pd.read_csv(\"e_commerce_data/us-shein-office_and_school_supplies-4233.csv\")\n",
        "df9  = pd.read_csv(\"e_commerce_data/us-shein-tools_and_home_improvement-3903.csv\")\n",
        "df10 = pd.read_csv(\"e_commerce_data/us-shein-underwear_and_sleepwear-4019.csv\")\n",
        "\n",
        "dataframes = [df1, df2, df3, df4, df5, df6, df7, df8, df9, df10]"
      ]
    },
    {
      "cell_type": "code",
      "execution_count": null,
      "metadata": {
        "colab": {
          "background_save": true
        },
        "id": "J92mTlkgWvQ2",
        "outputId": "54ae39de-9f0b-4a41-c6f6-2ea70453b861"
      },
      "outputs": [
        {
          "name": "stdout",
          "output_type": "stream",
          "text": [
            "Df 1 has 209 duplicated rows\n",
            "Df 2 has 179 duplicated rows\n",
            "Df 3 has 18 duplicated rows\n",
            "Df 4 has 31 duplicated rows\n",
            "Df 5 has 176 duplicated rows\n",
            "Df 6 has 188 duplicated rows\n",
            "Df 7 has 162 duplicated rows\n",
            "Df 8 has 92 duplicated rows\n",
            "Df 9 has 96 duplicated rows\n",
            "Df 10 has 203 duplicated rows\n"
          ]
        }
      ],
      "source": [
        "for i, df in enumerate(dataframes):\n",
        "    dup_num = df.duplicated().sum()\n",
        "    print(f\"Df {i+1} has {dup_num} duplicated rows\")"
      ]
    },
    {
      "cell_type": "code",
      "execution_count": null,
      "metadata": {
        "colab": {
          "background_save": true
        },
        "id": "E-c4j-QcYZiC"
      },
      "outputs": [],
      "source": [
        "for df in dataframes:\n",
        "    df.drop_duplicates(inplace=True)"
      ]
    },
    {
      "cell_type": "code",
      "execution_count": null,
      "metadata": {
        "colab": {
          "background_save": true
        },
        "id": "qTMcdBmhYczb",
        "outputId": "50caace9-4e89-4c19-d137-4ae245114bf0"
      },
      "outputs": [
        {
          "name": "stdout",
          "output_type": "stream",
          "text": [
            "Df 1 has 0 duplicated rows\n",
            "Df 2 has 0 duplicated rows\n",
            "Df 3 has 0 duplicated rows\n",
            "Df 4 has 0 duplicated rows\n",
            "Df 5 has 0 duplicated rows\n",
            "Df 6 has 0 duplicated rows\n",
            "Df 7 has 0 duplicated rows\n",
            "Df 8 has 0 duplicated rows\n",
            "Df 9 has 0 duplicated rows\n",
            "Df 10 has 0 duplicated rows\n"
          ]
        }
      ],
      "source": [
        "for i, df in enumerate(dataframes):\n",
        "    dup_num = df.duplicated().sum()\n",
        "    print(f\"Df {i+1} has {dup_num} duplicated rows\")"
      ]
    },
    {
      "cell_type": "code",
      "execution_count": null,
      "metadata": {
        "colab": {
          "background_save": true
        },
        "id": "MlOVAgtcZKkb",
        "outputId": "0d5199b3-ce95-49bd-f919-f5ee87fcd1ec"
      },
      "outputs": [
        {
          "name": "stdout",
          "output_type": "stream",
          "text": [
            "Df 1 has the following columns : Index(['goods-title-link--jump', 'goods-title-link--jump href', 'rank-title',\n",
            "       'rank-sub', 'price', 'discount', 'selling_proposition',\n",
            "       'goods-title-link'],\n",
            "      dtype='object')\n",
            "Df 2 has the following columns : Index(['goods-title-link--jump', 'goods-title-link--jump href', 'price',\n",
            "       'discount', 'selling_proposition', 'goods-title-link'],\n",
            "      dtype='object')\n",
            "Df 3 has the following columns : Index(['goods-title-link--jump', 'goods-title-link--jump href',\n",
            "       'selling_proposition', 'price', 'discount', 'color-count',\n",
            "       'goods-title-link'],\n",
            "      dtype='object')\n",
            "Df 4 has the following columns : Index(['color-count', 'goods-title-link--jump', 'goods-title-link--jump href',\n",
            "       'selling_proposition', 'price', 'discount', 'rank-title', 'rank-sub',\n",
            "       'goods-title-link'],\n",
            "      dtype='object')\n",
            "Df 5 has the following columns : Index(['goods-title-link', 'rank-title', 'rank-sub', 'price',\n",
            "       'selling_proposition', 'discount'],\n",
            "      dtype='object')\n",
            "Df 6 has the following columns : Index(['goods-title-link--jump', 'goods-title-link--jump href', 'rank-title',\n",
            "       'rank-sub', 'price', 'color-count', 'selling_proposition', 'discount',\n",
            "       'goods-title-link'],\n",
            "      dtype='object')\n",
            "Df 7 has the following columns : Index(['color-count', 'goods-title-link--jump', 'goods-title-link--jump href',\n",
            "       'rank-title', 'rank-sub', 'price', 'discount', 'selling_proposition',\n",
            "       'goods-title-link'],\n",
            "      dtype='object')\n",
            "Df 8 has the following columns : Index(['goods-title-link--jump', 'goods-title-link--jump href', 'rank-title',\n",
            "       'rank-sub', 'price', 'discount', 'selling_proposition',\n",
            "       'goods-title-link'],\n",
            "      dtype='object')\n",
            "Df 9 has the following columns : Index(['goods-title-link--jump', 'goods-title-link--jump href', 'rank-title',\n",
            "       'rank-sub', 'price', 'selling_proposition', 'discount',\n",
            "       'goods-title-link'],\n",
            "      dtype='object')\n",
            "Df 10 has the following columns : Index(['goods-title-link--jump', 'goods-title-link--jump href',\n",
            "       'selling_proposition', 'price', 'discount', 'rank-title', 'rank-sub',\n",
            "       'color-count', 'goods-title-link'],\n",
            "      dtype='object')\n"
          ]
        }
      ],
      "source": [
        "for i, df in enumerate(dataframes):\n",
        "    col = df.columns\n",
        "    print(f\"Df {i+1} has the following columns : {col}\")"
      ]
    },
    {
      "cell_type": "code",
      "execution_count": null,
      "metadata": {
        "id": "xDGRvyaDZ8CF"
      },
      "outputs": [],
      "source": [
        "for i, df in enumerate(dataframes):\n",
        "    shape = df.shape\n",
        "    print(f\"Df {i+1} has the following shape : {shape}\")"
      ]
    },
    {
      "cell_type": "code",
      "execution_count": null,
      "metadata": {
        "id": "vqFcJtxCaCjL"
      },
      "outputs": [],
      "source": [
        "df1.head()"
      ]
    },
    {
      "cell_type": "code",
      "execution_count": null,
      "metadata": {
        "id": "TPheHD5AaSy3"
      },
      "outputs": [],
      "source": [
        "df2.head()"
      ]
    },
    {
      "cell_type": "code",
      "execution_count": null,
      "metadata": {
        "id": "5qIpxaIrvDoj"
      },
      "outputs": [],
      "source": [
        "df3.head()"
      ]
    },
    {
      "cell_type": "code",
      "execution_count": null,
      "metadata": {
        "id": "RF_mqJogQKNp"
      },
      "outputs": [],
      "source": [
        "for df in dataframes:\n",
        "\n",
        "    df.rename(columns={\"goods-title-link--jump\":\"Product Title\",\n",
        "                       \"price\": \"Price\",\n",
        "                       \"discount\": \"Discount\",\n",
        "                       \"selling_proposition\": \"Selling Proposition\",\n",
        "                       \"rank-title\": \"Rank Title\",\n",
        "                       \"rank-sub\": \"Rank Subcategory\",\n",
        "                       \"color-count\": \"Color Count\"}, inplace=True)"
      ]
    },
    {
      "cell_type": "code",
      "execution_count": null,
      "metadata": {
        "id": "bhV-TVq9QSJ2"
      },
      "outputs": [],
      "source": [
        "df3.head()"
      ]
    },
    {
      "cell_type": "code",
      "execution_count": null,
      "metadata": {
        "id": "VEkEWuLKQgOk"
      },
      "outputs": [],
      "source": [
        "df1.head()"
      ]
    },
    {
      "cell_type": "code",
      "execution_count": null,
      "metadata": {
        "id": "VfinyYZUQsHw"
      },
      "outputs": [],
      "source": [
        "for i, df in enumerate(dataframes):\n",
        "    col = df.columns\n",
        "    print(f\"Df {i+1} has the following columns : {col}\")"
      ]
    },
    {
      "cell_type": "code",
      "execution_count": null,
      "metadata": {
        "id": "IEL9_HqaQvIR"
      },
      "outputs": [],
      "source": [
        "cols =  [\n",
        "    \"Selling Proposition\",\n",
        "    \"Price\",\n",
        "    \"Discount\",\n",
        "    \"Rank Title\",\n",
        "    \"Rank Subcategory\",\n",
        "    \"Product Title\",\n",
        "    \"Color Count\"\n",
        "]\n",
        "\n",
        "\n",
        "for i,df in enumerate(dataframes):\n",
        "    print(f\"DF{i+1} Columns Unique Values: \")\n",
        "    print()\n",
        "    for col in cols:\n",
        "        if col in df.columns:\n",
        "            unique_values = df[col].unique()\n",
        "            print(f\"Unique Values in {col} Column : {unique_values}\")\n",
        "            print()\n",
        "        else:\n",
        "            print(f\"Unique Values in {col} Column : No Column\")\n",
        "\n",
        "    print()\n",
        "    print()\n"
      ]
    },
    {
      "cell_type": "code",
      "execution_count": null,
      "metadata": {
        "id": "77Yr4Xms82T3"
      },
      "outputs": [],
      "source": [
        "for df in dataframes:\n",
        "    df[\"Price\"]= df[\"Price\"].str.replace(\"$\",\"\")\n",
        "df1.head()"
      ]
    },
    {
      "cell_type": "code",
      "execution_count": null,
      "metadata": {
        "id": "j9XjKLC185e4"
      },
      "outputs": [],
      "source": [
        "for df in dataframes:\n",
        "    if \"Rank Subcategory\" in df.columns:\n",
        "        df[\"Rank Subcategory\"] = df[\"Rank Subcategory\"].str.replace(\"in \", \"\")\n",
        "\n",
        "df1.head()"
      ]
    },
    {
      "cell_type": "code",
      "execution_count": null,
      "metadata": {
        "id": "esmV-0Qp88dn"
      },
      "outputs": [],
      "source": [
        "for df in dataframes:\n",
        "    df[\"Discount\"] = df[\"Discount\"].str.replace(\"%\", \"\")\n",
        "df1.head()"
      ]
    },
    {
      "cell_type": "code",
      "execution_count": null,
      "metadata": {
        "id": "LjLWGryw8_VA"
      },
      "outputs": [],
      "source": [
        "for df in dataframes:\n",
        "    # Convert to string and handle missing values\n",
        "    df[\"Selling Proposition\"] = df[\"Selling Proposition\"].fillna(\"\").astype(str)\n",
        "\n",
        "    # Remove unwanted characters\n",
        "    df[\"Selling Proposition Numeric\"] = df[\"Selling Proposition\"].str.replace(r\"\\+\", \"\", regex=True) \\\n",
        "        .str.replace(r\"sold recently\", \"\", regex=True) \\\n",
        "        .str.replace(r\"k\", \"\", regex=True)\n",
        "\n",
        "    # Convert empty strings to NaN before conversion to float\n",
        "    df[\"Selling Proposition Numeric\"] = df[\"Selling Proposition Numeric\"].replace(\"\", \"0\").astype(float)\n",
        "\n",
        "    # Multiply by 1000 if original column contained \"k\"\n",
        "    df.loc[df[\"Selling Proposition\"].str.contains(\"k\", na=False), \"Selling Proposition Numeric\"] *= 1000\n",
        "\n",
        "    # Convert to integer (after handling missing values)\n",
        "    df[\"Selling Proposition Numeric\"] = df[\"Selling Proposition Numeric\"].astype(int)\n",
        "\n",
        "\n",
        "df1.head()"
      ]
    }
  ],
  "metadata": {
    "colab": {
      "provenance": [],
      "mount_file_id": "1sWNLZetBHpv4YWXY6gn4IWdjrQpfOmZW",
      "authorship_tag": "ABX9TyNPLLroc7NERkBgi+wPsrPk",
      "include_colab_link": true
    },
    "kernelspec": {
      "display_name": "Python 3",
      "name": "python3"
    },
    "language_info": {
      "name": "python"
    }
  },
  "nbformat": 4,
  "nbformat_minor": 0
}